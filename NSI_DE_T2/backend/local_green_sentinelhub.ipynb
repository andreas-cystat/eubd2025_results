{
 "cells": [
  {
   "cell_type": "markdown",
   "metadata": {},
   "source": [
    "# Eurostat European Big Data Hackathon 2025 - Team DE 2 - Local Access to Green Space\n",
    "\n",
    "Lorenz Ade, Melanie Brauchler, Lars Gehrke\n",
    "\n",
    "<img src=\"https://cros.ec.europa.eu/system/files/inline-images/EU-Big-Data-Hackathon-2025_horiz_0.jpg\" width=\"500\"/>\n",
    "\n",
    "_Source: https://cros.ec.europa.eu/2025EuropeanBigDataHackathon_"
   ]
  },
  {
   "cell_type": "code",
   "execution_count": 1,
   "metadata": {},
   "outputs": [],
   "source": [
    "# Utilities\n",
    "import matplotlib.pyplot as plt\n",
    "import pandas as pd\n",
    "import numpy as np"
   ]
  },
  {
   "cell_type": "markdown",
   "metadata": {},
   "source": [
    "## Access to the relevant statistical data and services (during Hackathon)\n",
    "\n",
    "For the hackathon, different auxiliary datasets for relevant statistical data and services have been provided to the teams. You can find an overview of the datasets in the documentation of the data catalogue (https://eurostat.github.io/eubd2025_docs/data-catalogue.html#relevant-official-statistics-data-and-services-hackathon-auxiliary-datasets)\n",
    "\n",
    "To access the relevant datasets during the hackathon, we used information from these notebooks to access the data (https://eurostat.github.io/eubd2025_docs/cf-notebooks/Example_NUTS.html, https://eurostat.github.io/eubd2025_docs/cf-notebooks/Example_Census_GRID.html).\n",
    "\n",
    "The datasets we accessed through the S3 buckets were: \n",
    "\n",
    "1. Territorial units for statistics (NUTS) - NUTS Year 2021 - SHP-Format - Polygons - Scale 01M in projected coordinate system EPSG:3035 (NUTS/2021/NUTS_RG_01M_2021_3035.shp.zip)\n",
    "2. Census / Population Grid in 1km² resolution with population-related viariables from the Census 2021 - the projection is also EPSG:3035 (Census_GRID/2021/ESTAT_Census_2021_V2.gpkg)"
   ]
  },
  {
   "cell_type": "code",
   "execution_count": 2,
   "metadata": {},
   "outputs": [],
   "source": [
    "import boto3\n",
    "import configparser\n",
    "import os\n",
    "import urllib3\n",
    "#import tempfile - since tempfile led to crashing the kernel, we saved the data in fixed folders instead of temporary ones"
   ]
  },
  {
   "cell_type": "code",
   "execution_count": 3,
   "metadata": {},
   "outputs": [],
   "source": [
    "urllib3.disable_warnings()"
   ]
  },
  {
   "cell_type": "code",
   "execution_count": 4,
   "metadata": {},
   "outputs": [],
   "source": [
    "# set up Bucket connection\n",
    "\n",
    "def s3_connection(credentials: dict) -> boto3.session.Session:\n",
    "    \"\"\"Establishes a connection to an S3 bucket.\n",
    "\n",
    "    Args:\n",
    "        credentials (dict): A dictionary containing AWS S3 credentials with keys \n",
    "                            'host_base', 'access_key', and 'secret_key'.\n",
    "\n",
    "    Returns:\n",
    "        boto3.session.Session: A boto3 session client configured with the provided \n",
    "                               credentials for interacting with the S3 service.\n",
    "    \"\"\"\n",
    "    s3 = boto3.client('s3',\n",
    "                      endpoint_url=credentials['host_base'],\n",
    "                      aws_access_key_id=credentials['access_key'],\n",
    "                      aws_secret_access_key=credentials['secret_key'],\n",
    "                      use_ssl=True,\n",
    "                      verify=False)\n",
    "    return s3\n",
    "\n",
    "# Load s3 credentials\n",
    "config = configparser.ConfigParser()\n",
    "config.read('s3cfg')\n",
    "credentials = dict(config['default'].items())\n",
    "\n",
    "# Connection with S3 eodata\n",
    "s3 = s3_connection(credentials)"
   ]
  },
  {
   "cell_type": "code",
   "execution_count": 5,
   "metadata": {},
   "outputs": [],
   "source": [
    "response = s3.list_objects_v2(Bucket='ESTAT', Prefix='NUTS')"
   ]
  },
  {
   "cell_type": "code",
   "execution_count": 6,
   "metadata": {},
   "outputs": [
    {
     "name": "stdout",
     "output_type": "stream",
     "text": [
      "Objects in bucket:\n",
      "NUTS/2021/NUTS_RG_01M_2021_3035.shp.zip\n",
      "NUTS/2021/NUTS_RG_01M_2021_3857.shp.zip\n",
      "NUTS/2021/NUTS_RG_01M_2021_4326.shp.zip\n",
      "NUTS/2024/NUTS_RG_01M_2024_3035.shp.zip\n",
      "NUTS/2024/NUTS_RG_01M_2024_3857.shp.zip\n",
      "NUTS/2024/NUTS_RG_01M_2024_4326.shp.zip\n"
     ]
    }
   ],
   "source": [
    "if 'Contents' in response:\n",
    "    print(\"Objects in bucket:\")\n",
    "    # Iterate over each object\n",
    "    for obj in response['Contents']:\n",
    "        print(obj['Key'])\n",
    "else:\n",
    "    print(\"No objects found in the bucket.\")"
   ]
  },
  {
   "cell_type": "code",
   "execution_count": 7,
   "metadata": {},
   "outputs": [],
   "source": [
    "object_path = 'NUTS/2021/NUTS_RG_01M_2021_3035.shp.zip'\n",
    "# Create a local path to save the dataset\n",
    "local_nuts_path = os.path.join(\"nuts\", object_path.split('/')[-1])"
   ]
  },
  {
   "cell_type": "code",
   "execution_count": 8,
   "metadata": {},
   "outputs": [],
   "source": [
    "# Download the shapefile from the S3 bucket - uncomment the next line to download the dataset, then, when running the notebook again, keep it as a comment and load from the local path\n",
    "#s3.download_file('ESTAT', object_path, local_nuts_path)"
   ]
  },
  {
   "cell_type": "code",
   "execution_count": 9,
   "metadata": {},
   "outputs": [],
   "source": [
    "response = s3.list_objects_v2(Bucket='ESTAT', Prefix='Census_GRID')"
   ]
  },
  {
   "cell_type": "code",
   "execution_count": 10,
   "metadata": {},
   "outputs": [
    {
     "name": "stdout",
     "output_type": "stream",
     "text": [
      "Objects in bucket:\n",
      "Census_GRID/2021/ESTAT_Census_2021_V2.csv\n",
      "Census_GRID/2021/ESTAT_Census_2021_V2.gpkg\n",
      "Census_GRID/2021/ESTAT_Census_2021_V2.parquet\n",
      "Census_GRID/2021/ESTAT_Census_2021_V2_SDMX_Metadata/CENSUS_INS21ES_A_AT_2021_0000.sdmx.xml\n",
      "Census_GRID/2021/ESTAT_Census_2021_V2_SDMX_Metadata/CENSUS_INS21ES_A_BE_2021_0000.sdmx.xml\n",
      "Census_GRID/2021/ESTAT_Census_2021_V2_SDMX_Metadata/CENSUS_INS21ES_A_BG_2021_0000.sdmx.xml\n",
      "Census_GRID/2021/ESTAT_Census_2021_V2_SDMX_Metadata/CENSUS_INS21ES_A_CH_2021_0000.sdmx.xml\n",
      "Census_GRID/2021/ESTAT_Census_2021_V2_SDMX_Metadata/CENSUS_INS21ES_A_CY_2021_0000.sdmx.xml\n",
      "Census_GRID/2021/ESTAT_Census_2021_V2_SDMX_Metadata/CENSUS_INS21ES_A_CZ_2021_0000.sdmx.xml\n",
      "Census_GRID/2021/ESTAT_Census_2021_V2_SDMX_Metadata/CENSUS_INS21ES_A_DE_2021_0000.sdmx.xml\n",
      "Census_GRID/2021/ESTAT_Census_2021_V2_SDMX_Metadata/CENSUS_INS21ES_A_DK_2021_0000.sdmx.xml\n",
      "Census_GRID/2021/ESTAT_Census_2021_V2_SDMX_Metadata/CENSUS_INS21ES_A_EE_2021_0000.sdmx.xml\n",
      "Census_GRID/2021/ESTAT_Census_2021_V2_SDMX_Metadata/CENSUS_INS21ES_A_EL_2021_0000.sdmx.xml\n",
      "Census_GRID/2021/ESTAT_Census_2021_V2_SDMX_Metadata/CENSUS_INS21ES_A_ES_2021_0000.sdmx.xml\n",
      "Census_GRID/2021/ESTAT_Census_2021_V2_SDMX_Metadata/CENSUS_INS21ES_A_FI_2021_0000.sdmx.xml\n",
      "Census_GRID/2021/ESTAT_Census_2021_V2_SDMX_Metadata/CENSUS_INS21ES_A_FR_2021_0000.sdmx.xml\n",
      "Census_GRID/2021/ESTAT_Census_2021_V2_SDMX_Metadata/CENSUS_INS21ES_A_HR_2021_0000.sdmx.xml\n",
      "Census_GRID/2021/ESTAT_Census_2021_V2_SDMX_Metadata/CENSUS_INS21ES_A_HU_2021_0000.sdmx.xml\n",
      "Census_GRID/2021/ESTAT_Census_2021_V2_SDMX_Metadata/CENSUS_INS21ES_A_IE_2021_0000.sdmx.xml\n",
      "Census_GRID/2021/ESTAT_Census_2021_V2_SDMX_Metadata/CENSUS_INS21ES_A_IT_2021_0000.sdmx.xml\n",
      "Census_GRID/2021/ESTAT_Census_2021_V2_SDMX_Metadata/CENSUS_INS21ES_A_LI_2021_0000.sdmx.xml\n",
      "Census_GRID/2021/ESTAT_Census_2021_V2_SDMX_Metadata/CENSUS_INS21ES_A_LT_2021_0000.sdmx.xml\n",
      "Census_GRID/2021/ESTAT_Census_2021_V2_SDMX_Metadata/CENSUS_INS21ES_A_LU_2021_0000.sdmx.xml\n",
      "Census_GRID/2021/ESTAT_Census_2021_V2_SDMX_Metadata/CENSUS_INS21ES_A_LV_2021_0000.sdmx.xml\n",
      "Census_GRID/2021/ESTAT_Census_2021_V2_SDMX_Metadata/CENSUS_INS21ES_A_MT_2021_0000.sdmx.xml\n",
      "Census_GRID/2021/ESTAT_Census_2021_V2_SDMX_Metadata/CENSUS_INS21ES_A_NL_2021_0000.sdmx.xml\n",
      "Census_GRID/2021/ESTAT_Census_2021_V2_SDMX_Metadata/CENSUS_INS21ES_A_NO_2021_0000.sdmx.xml\n",
      "Census_GRID/2021/ESTAT_Census_2021_V2_SDMX_Metadata/CENSUS_INS21ES_A_PL_2021_0000.sdmx.xml\n",
      "Census_GRID/2021/ESTAT_Census_2021_V2_SDMX_Metadata/CENSUS_INS21ES_A_PT_2021_0000.sdmx.xml\n",
      "Census_GRID/2021/ESTAT_Census_2021_V2_SDMX_Metadata/CENSUS_INS21ES_A_RO_2021_0000.sdmx.xml\n",
      "Census_GRID/2021/ESTAT_Census_2021_V2_SDMX_Metadata/CENSUS_INS21ES_A_SE_2021_0000.sdmx.xml\n",
      "Census_GRID/2021/ESTAT_Census_2021_V2_SDMX_Metadata/CENSUS_INS21ES_A_SI_2021_0000.sdmx.xml\n",
      "Census_GRID/2021/ESTAT_Census_2021_V2_SDMX_Metadata/CENSUS_INS21ES_A_SK_2021_0000.sdmx.xml\n",
      "Census_GRID/2021/ESTAT_OBS-VALUE-CHG_IN_2021_V2.tiff\n",
      "Census_GRID/2021/ESTAT_OBS-VALUE-CHG_OUT_2021_V2.tiff\n",
      "Census_GRID/2021/ESTAT_OBS-VALUE-CONFIDENTIAL_2021_V2.tiff\n",
      "Census_GRID/2021/ESTAT_OBS-VALUE-EMP_2021_V2.tiff\n",
      "Census_GRID/2021/ESTAT_OBS-VALUE-EU_OTH_2021_V2.tiff\n",
      "Census_GRID/2021/ESTAT_OBS-VALUE-F_2021_V2.tiff\n",
      "Census_GRID/2021/ESTAT_OBS-VALUE-LANDSURFACE_2021_V2.tiff\n",
      "Census_GRID/2021/ESTAT_OBS-VALUE-M_2021_V2.tiff\n",
      "Census_GRID/2021/ESTAT_OBS-VALUE-NAT_2021_V2.tiff\n",
      "Census_GRID/2021/ESTAT_OBS-VALUE-OTH_2021_V2.tiff\n",
      "Census_GRID/2021/ESTAT_OBS-VALUE-POPULATED_2021_V2.tiff\n",
      "Census_GRID/2021/ESTAT_OBS-VALUE-SAME_2021_V2.tiff\n",
      "Census_GRID/2021/ESTAT_OBS-VALUE-T_2021_V2.tiff\n",
      "Census_GRID/2021/ESTAT_OBS-VALUE-Y_1564_2021_V2.tiff\n",
      "Census_GRID/2021/ESTAT_OBS-VALUE-Y_GE65_2021_V2.tiff\n",
      "Census_GRID/2021/ESTAT_OBS-VALUE-Y_LT15_2021_V2.tiff\n",
      "Census_GRID/2021/read.me\n"
     ]
    }
   ],
   "source": [
    "if 'Contents' in response:\n",
    "    print(\"Objects in bucket:\")\n",
    "    # Iterate over each object\n",
    "    for obj in response['Contents']:\n",
    "        print(obj['Key'])\n",
    "else:\n",
    "    print(\"No objects found in the bucket.\")"
   ]
  },
  {
   "cell_type": "code",
   "execution_count": 11,
   "metadata": {},
   "outputs": [],
   "source": [
    "object_path = 'Census_GRID/2021/ESTAT_Census_2021_V2.gpkg' # 1.6GB\n",
    "# Define local path to save GeoPackage file\n",
    "local_grid_path = os.path.join(\"census_grid\", object_path.split('/')[-1])"
   ]
  },
  {
   "cell_type": "code",
   "execution_count": 12,
   "metadata": {},
   "outputs": [],
   "source": [
    "# Download the GeoPackage from the S3 bucket - uncomment the next line to download the dataset, then, when running the notebook again, keep it as a comment and load from the local path\n",
    "#s3.download_file('ESTAT', object_path, local_grid_path)"
   ]
  },
  {
   "cell_type": "markdown",
   "metadata": {},
   "source": [
    "## Access to the relevant statistical data and services (continued access)\n",
    "\n",
    "Since the statistical data and services provided during the hackathon are official and open data, you can download the relevant datasets through the dedicated Eurostat websites in case you do not have access to the S3-Buckets for the Hackathon anymore. \n",
    "\n",
    "1. Territorial units for statistics https://ec.europa.eu/eurostat/web/gisco/geodata/statistical-units/territorial-units-statistics (19.2 MB ZIP file - no need to unpack)\n",
    "2. Census / Population Grid https://ec.europa.eu/eurostat/web/gisco/geodata/population-distribution/geostat (562 MB ZIP file - unpacked *ESTAT_Census_2021_V2.gpkg 1.6 GB*)\n",
    "\n",
    "To access them via the notebook, you can upload them to your `mystorage` folder of your jupyter environment. We have put them into dedicated folders `nuts` and `census_grid` when we downloaded them during the hackathon. If you run your notebook in your main `mystorage` folder and also create the other folders there, you will be able to run the following code without changes. "
   ]
  },
  {
   "cell_type": "markdown",
   "metadata": {},
   "source": [
    "### Load NUTS dataset"
   ]
  },
  {
   "cell_type": "code",
   "execution_count": 13,
   "metadata": {},
   "outputs": [],
   "source": [
    "import geopandas as gpd"
   ]
  },
  {
   "cell_type": "code",
   "execution_count": 14,
   "metadata": {},
   "outputs": [],
   "source": [
    "# Read the nuts shapefile into a GeoDataFrame\n",
    "nuts_gdf = gpd.read_file(local_nuts_path)"
   ]
  },
  {
   "cell_type": "code",
   "execution_count": 15,
   "metadata": {},
   "outputs": [
    {
     "data": {
      "text/html": [
       "<div>\n",
       "<style scoped>\n",
       "    .dataframe tbody tr th:only-of-type {\n",
       "        vertical-align: middle;\n",
       "    }\n",
       "\n",
       "    .dataframe tbody tr th {\n",
       "        vertical-align: top;\n",
       "    }\n",
       "\n",
       "    .dataframe thead th {\n",
       "        text-align: right;\n",
       "    }\n",
       "</style>\n",
       "<table border=\"1\" class=\"dataframe\">\n",
       "  <thead>\n",
       "    <tr style=\"text-align: right;\">\n",
       "      <th></th>\n",
       "      <th>NUTS_ID</th>\n",
       "      <th>LEVL_CODE</th>\n",
       "      <th>CNTR_CODE</th>\n",
       "      <th>NAME_LATN</th>\n",
       "      <th>NUTS_NAME</th>\n",
       "      <th>MOUNT_TYPE</th>\n",
       "      <th>URBN_TYPE</th>\n",
       "      <th>COAST_TYPE</th>\n",
       "      <th>geometry</th>\n",
       "    </tr>\n",
       "  </thead>\n",
       "  <tbody>\n",
       "    <tr>\n",
       "      <th>0</th>\n",
       "      <td>AL</td>\n",
       "      <td>0</td>\n",
       "      <td>AL</td>\n",
       "      <td>Shqipëria</td>\n",
       "      <td>Shqipëria</td>\n",
       "      <td>0.0</td>\n",
       "      <td>0</td>\n",
       "      <td>0</td>\n",
       "      <td>MULTIPOLYGON (((5121233.536 2221719.441, 51208...</td>\n",
       "    </tr>\n",
       "    <tr>\n",
       "      <th>1</th>\n",
       "      <td>CZ</td>\n",
       "      <td>0</td>\n",
       "      <td>CZ</td>\n",
       "      <td>Česko</td>\n",
       "      <td>Česko</td>\n",
       "      <td>0.0</td>\n",
       "      <td>0</td>\n",
       "      <td>0</td>\n",
       "      <td>POLYGON ((4624843.654 3112209.741, 4625546.618...</td>\n",
       "    </tr>\n",
       "  </tbody>\n",
       "</table>\n",
       "</div>"
      ],
      "text/plain": [
       "  NUTS_ID  LEVL_CODE CNTR_CODE  NAME_LATN  NUTS_NAME  MOUNT_TYPE  URBN_TYPE  \\\n",
       "0      AL          0        AL  Shqipëria  Shqipëria         0.0          0   \n",
       "1      CZ          0        CZ      Česko      Česko         0.0          0   \n",
       "\n",
       "   COAST_TYPE                                           geometry  \n",
       "0           0  MULTIPOLYGON (((5121233.536 2221719.441, 51208...  \n",
       "1           0  POLYGON ((4624843.654 3112209.741, 4625546.618...  "
      ]
     },
     "execution_count": 15,
     "metadata": {},
     "output_type": "execute_result"
    }
   ],
   "source": [
    "# Check the attributes \n",
    "nuts_gdf.head(2) "
   ]
  },
  {
   "cell_type": "markdown",
   "metadata": {},
   "source": [
    "We are using the NUTS dataset to filter the Census Grid by bounding box of a NUTS region - we can then set geopandas to only load the relevant data in this bounding box. \n",
    "For example, the NUTS_ID for NUTS 0 region Germany is `DE`, the NUTS_ID for NUTS 2 region Düsseldorf is `DEA1`. \n",
    "\n",
    "During the Hackathon, we decided on two focus regions on a NUTS 2 level. \n",
    "\n",
    "* Düsseldorf `DEA1` in Germany (including Essen etc.)\n",
    "* Eastern and Midland `IE04` in Ireland (including Dublin)"
   ]
  },
  {
   "cell_type": "code",
   "execution_count": 16,
   "metadata": {},
   "outputs": [],
   "source": [
    "# from here on, we run the notebook two times - once for DEA1 and once for IE04\n",
    "nuts_aoi = nuts_gdf[(nuts_gdf['NUTS_ID']=='DEA1')]\n",
    "#nuts_aoi = nuts_gdf[(nuts_gdf['NUTS_ID']=='IE06')]"
   ]
  },
  {
   "cell_type": "code",
   "execution_count": 17,
   "metadata": {},
   "outputs": [
    {
     "data": {
      "text/html": [
       "<div>\n",
       "<style scoped>\n",
       "    .dataframe tbody tr th:only-of-type {\n",
       "        vertical-align: middle;\n",
       "    }\n",
       "\n",
       "    .dataframe tbody tr th {\n",
       "        vertical-align: top;\n",
       "    }\n",
       "\n",
       "    .dataframe thead th {\n",
       "        text-align: right;\n",
       "    }\n",
       "</style>\n",
       "<table border=\"1\" class=\"dataframe\">\n",
       "  <thead>\n",
       "    <tr style=\"text-align: right;\">\n",
       "      <th></th>\n",
       "      <th>NUTS_ID</th>\n",
       "      <th>LEVL_CODE</th>\n",
       "      <th>CNTR_CODE</th>\n",
       "      <th>NAME_LATN</th>\n",
       "      <th>NUTS_NAME</th>\n",
       "      <th>MOUNT_TYPE</th>\n",
       "      <th>URBN_TYPE</th>\n",
       "      <th>COAST_TYPE</th>\n",
       "      <th>geometry</th>\n",
       "    </tr>\n",
       "  </thead>\n",
       "  <tbody>\n",
       "    <tr>\n",
       "      <th>190</th>\n",
       "      <td>DEA1</td>\n",
       "      <td>2</td>\n",
       "      <td>DE</td>\n",
       "      <td>Düsseldorf</td>\n",
       "      <td>Düsseldorf</td>\n",
       "      <td>0.0</td>\n",
       "      <td>0</td>\n",
       "      <td>0</td>\n",
       "      <td>POLYGON ((4056610.125 3206393.097, 4057168.851...</td>\n",
       "    </tr>\n",
       "  </tbody>\n",
       "</table>\n",
       "</div>"
      ],
      "text/plain": [
       "    NUTS_ID  LEVL_CODE CNTR_CODE   NAME_LATN   NUTS_NAME  MOUNT_TYPE  \\\n",
       "190    DEA1          2        DE  Düsseldorf  Düsseldorf         0.0   \n",
       "\n",
       "     URBN_TYPE  COAST_TYPE                                           geometry  \n",
       "190          0           0  POLYGON ((4056610.125 3206393.097, 4057168.851...  "
      ]
     },
     "execution_count": 17,
     "metadata": {},
     "output_type": "execute_result"
    }
   ],
   "source": [
    "nuts_aoi"
   ]
  },
  {
   "cell_type": "code",
   "execution_count": 18,
   "metadata": {},
   "outputs": [
    {
     "data": {
      "text/plain": [
       "array([4041623.8874, 3105596.1421, 4133347.9473, 3206393.0969])"
      ]
     },
     "execution_count": 18,
     "metadata": {},
     "output_type": "execute_result"
    }
   ],
   "source": [
    "# bounding box of the whole GeoDataFrame\n",
    "nuts_aoi.total_bounds"
   ]
  },
  {
   "cell_type": "code",
   "execution_count": 19,
   "metadata": {},
   "outputs": [],
   "source": [
    "# The bbox needs to be a tuple to be passed to the read_file function\n",
    "bbox = tuple(nuts_aoi.total_bounds)"
   ]
  },
  {
   "cell_type": "markdown",
   "metadata": {},
   "source": [
    "### Load Census Grid dataset with NUTS bbox"
   ]
  },
  {
   "cell_type": "code",
   "execution_count": 20,
   "metadata": {},
   "outputs": [],
   "source": [
    "# Read the census grid into a Pandas GeoDataFrame by bounding box of the NUTS area\n",
    "gdf_grid = gpd.read_file(local_grid_path,\n",
    "                        bbox=bbox)"
   ]
  },
  {
   "cell_type": "code",
   "execution_count": 21,
   "metadata": {},
   "outputs": [
    {
     "data": {
      "text/plain": [
       "(9486, 18)"
      ]
     },
     "execution_count": 21,
     "metadata": {},
     "output_type": "execute_result"
    }
   ],
   "source": [
    "# now we can check how many grid cells the grid has for the bounding box of the selected NUTS region\n",
    "gdf_grid.shape\n",
    "# Düsseldorf - 9486 cells\n",
    "# Eastern and Midland - 21269 cells"
   ]
  },
  {
   "cell_type": "markdown",
   "metadata": {},
   "source": [
    "## Access to satellite data with the CDSE (Entry point SentinelHub)\n",
    "\n",
    "To access the relevant satellite data to be calculated for each of the Census Grid Cells for Düsseldorf and Eastern & Midland, we make use of the CDSE capabilities and SentinelHub"
   ]
  },
  {
   "cell_type": "markdown",
   "metadata": {},
   "source": [
    "### Authentication\n",
    "\n",
    "You can obtain the credentials for the Sentinel Hub services (`client_id` & `client_secret`) in your [Dashboard](https://shapps.dataspace.copernicus.eu/dashboard/#/). In the user settings, you can create a new OAuth client to generate these credentials. You can find more detailed instructions on the corresponding [documentation page](https://documentation.dataspace.copernicus.eu/APIs/SentinelHub/Overview/Authentication.html)."
   ]
  },
  {
   "cell_type": "code",
   "execution_count": 22,
   "metadata": {},
   "outputs": [],
   "source": [
    "import getpass\n",
    "# in addition to the sentinelhub authentification modules, we also load a few other things for later\n",
    "from sentinelhub import (\n",
    "    SHConfig,\n",
    "    BBox,\n",
    "    bbox_to_dimensions,\n",
    "    DataCollection,\n",
    "    #SentinelHubCatalog,\n",
    "    SentinelHubRequest,\n",
    "    #SentinelHubStatistical,\n",
    "    MimeType,\n",
    "    Geometry,\n",
    "    CRS,\n",
    ")"
   ]
  },
  {
   "cell_type": "code",
   "execution_count": 23,
   "metadata": {},
   "outputs": [
    {
     "name": "stdin",
     "output_type": "stream",
     "text": [
      "Enter your username ········\n",
      "Enter your password ········\n"
     ]
    }
   ],
   "source": [
    "# Enter your own credentials here\n",
    "sh_id = getpass.getpass(\"Enter your username\")\n",
    "sh_secret = getpass.getpass(\"Enter your password\")"
   ]
  },
  {
   "cell_type": "code",
   "execution_count": 24,
   "metadata": {},
   "outputs": [],
   "source": [
    "config = SHConfig()\n",
    "config.sh_client_id = sh_id\n",
    "config.sh_client_secret = sh_secret\n",
    "config.sh_base_url = 'https://sh.dataspace.copernicus.eu'\n",
    "config.sh_token_url = 'https://identity.dataspace.copernicus.eu/auth/realms/CDSE/protocol/openid-connect/token'"
   ]
  },
  {
   "cell_type": "markdown",
   "metadata": {},
   "source": [
    "## Get quarterly Sentinel-2 mosaic from SentinelHub by collection-ID"
   ]
  },
  {
   "cell_type": "markdown",
   "metadata": {},
   "source": [
    "The sentinel quarterly mosaics are created by mosaicking three months of Sentinel-2 Level 2A aquisitions for the Bands B02, B03, B04, B08 (B, G, R, IR) to create cloud free mosaics.\n",
    "https://documentation.dataspace.copernicus.eu/Data/SentinelMissions/Sentinel2.html#sentinel-2-level-3-quarterly-mosaics\n",
    "\n",
    "The sentinel cloudless mosaics (level 3) are available as a byoc collection, that needs to be accessed by the given ID via SentinelHub.\n",
    "https://documentation.dataspace.copernicus.eu/Data/SentinelMissions/Sentinel2.html#access-sentinel-2-level-3-quarterly-mosaics-with-sentinel-hub"
   ]
  },
  {
   "cell_type": "code",
   "execution_count": 25,
   "metadata": {},
   "outputs": [],
   "source": [
    "# get the collection by collection ID\n",
    "S2l3_cloudless_mosaic = DataCollection.define_byoc(\n",
    "    collection_id=\"5460de54-082e-473a-b6ea-d5cbe3c17cca\"\n",
    ")"
   ]
  },
  {
   "cell_type": "markdown",
   "metadata": {},
   "source": [
    "The following Evalscript calculates the NDVI from the Sentinel-2 Mosaic and evaluates per pixel if the NDVI is over or below the threshold of 0.6. \n",
    "\n",
    "* Dense vegetation - Greater than or equal to 0.6\n",
    "* Moderate vegetation - In the range [0.4, 0.6)\n",
    "* Sparse vegetation - In the range [0.2 0.4)\n",
    "* No vegetation - Below 0.2\n",
    "\n",
    "Since we take the threshold of 0.6 for dense vegetation, we may underestimate the green space per grid cell, especially in the late summer months. \n",
    "\n",
    "(https://www.mathworks.com/help/images/identify-vegetation-regions-using-interactive-ndvi-thresholding.html) "
   ]
  },
  {
   "cell_type": "code",
   "execution_count": 26,
   "metadata": {},
   "outputs": [],
   "source": [
    "#Define evalscript for NDVI calculation\n",
    "evalscript = \"\"\"\n",
    "//VERSION=3\n",
    "function setup() {\n",
    "    return {\n",
    "        input: [{bands: [\"B04\", \"B08\"], units: \"DN\"}],\n",
    "        output: {bands: 1, sampleType: \"FLOAT32\"}\n",
    "    };\n",
    "}\n",
    "\n",
    "function evaluatePixel(sample) {\n",
    "    let ndvi = (sample.B08 - sample.B04) / (sample.B08 + sample.B04);\n",
    "    return ndvi < 0.6 ? [0] : [1];\n",
    "    //return [ndvi];\n",
    "}\n",
    "\"\"\""
   ]
  },
  {
   "cell_type": "code",
   "execution_count": 27,
   "metadata": {},
   "outputs": [],
   "source": [
    "bounds_tuples = [(row[\"minx\"], row[\"miny\"], row[\"maxx\"], row[\"maxy\"]) for _, row in gdf_grid.bounds.iterrows()]"
   ]
  },
  {
   "cell_type": "code",
   "execution_count": 28,
   "metadata": {},
   "outputs": [],
   "source": [
    "gdf_grid[\"bounds\"] = bounds_tuples"
   ]
  },
  {
   "cell_type": "markdown",
   "metadata": {},
   "source": [
    "The function below iterates through each grid cell of the census grid and retrieves the NDVI for the quarter July 2021 - September 2021, but only if there is population in the census grid. If a grid cell has a share of 50% invalid values of Sentinel-2 (i.e., remaining clouds even in the mosaic), they are also marked. \n",
    "The resulting values can thus be: \n",
    "\n",
    "* -2 -> No population present\n",
    "* -1 -> not enough valid NDVI pixels\n",
    "* any other value 0-1 -> sum of pixels in the grid over the NDVI threshold of 0.6 / sum of valid pixels\n",
    "\n",
    "In hindsight, this would probably be better done with the statistical API or batch processing capacities. "
   ]
  },
  {
   "cell_type": "code",
   "execution_count": 29,
   "metadata": {},
   "outputs": [],
   "source": [
    "def get_ndvi_stats(gdf):\n",
    "    \n",
    "    result=[]\n",
    "    \n",
    "    for _, row in gdf.iterrows():\n",
    "        if row[\"POPULATED\"] != 1:\n",
    "            result.append(-2)\n",
    "            continue\n",
    "        \n",
    "        bbox = BBox(bbox=row[\"bounds\"], crs=\"EPSG:3035\")\n",
    "        \n",
    "        bbox_size = bbox_to_dimensions(bbox, resolution=10)  # 10m resolution\n",
    "    \n",
    "        request = SentinelHubRequest(\n",
    "            evalscript=evalscript,\n",
    "            input_data=[SentinelHubRequest.input_data(\n",
    "                data_collection=S2l3_cloudless_mosaic,\n",
    "                time_interval=(\"2021-07-01\", \"2021-07-02\"),\n",
    "            )],\n",
    "            responses=[SentinelHubRequest.output_response(\"default\", MimeType.TIFF)],\n",
    "            bbox=bbox,\n",
    "            size=bbox_size,\n",
    "            config=config,\n",
    "        )\n",
    "\n",
    "        response = request.get_data()\n",
    "        #total_pixels = response[0].size # if you want to check how many pixels are reported back\n",
    "        valid_pixels = np.count_nonzero(~np.isnan(response[0]))\n",
    "        ndvi_pixels = (response[0]==1).sum()\n",
    "    \n",
    "        # compute area and share of ndvi pixels above treshold\n",
    "        share = ndvi_pixels/valid_pixels if valid_pixels > 5000 else -1\n",
    "        result.append(share)\n",
    "\n",
    "    return result"
   ]
  },
  {
   "cell_type": "code",
   "execution_count": 30,
   "metadata": {},
   "outputs": [],
   "source": [
    "# run the function\n",
    "ndvi_grid = get_ndvi_stats(gdf_grid)"
   ]
  },
  {
   "cell_type": "code",
   "execution_count": 34,
   "metadata": {},
   "outputs": [],
   "source": [
    "gdf_grid[\"share_vegetation\"] = ndvi_grid"
   ]
  },
  {
   "cell_type": "code",
   "execution_count": 35,
   "metadata": {},
   "outputs": [
    {
     "data": {
      "text/plain": [
       "<Axes: ylabel='Frequency'>"
      ]
     },
     "execution_count": 35,
     "metadata": {},
     "output_type": "execute_result"
    },
    {
     "data": {
      "image/png": "[encoded data removed]",
      "text/plain": [
       "<Figure size 640x480 with 1 Axes>"
      ]
     },
     "metadata": {},
     "output_type": "display_data"
    }
   ],
   "source": [
    "gdf_grid['share_vegetation'].plot.hist(bins=30, edgecolor=\"black\")"
   ]
  },
  {
   "cell_type": "markdown",
   "metadata": {},
   "source": [
    "We see there are no cells evaluated as having too many invalid pixels, but in the Düsseldorf NUTS2 region, we have over 900 cells that are not inhabited (Value = -2). "
   ]
  },
  {
   "cell_type": "markdown",
   "metadata": {},
   "source": [
    "## Green Space per Capita\n",
    "\n",
    "With these vegetation share values and the population in the Census grid, we can calculate the local green space per capita for each grid cell of the Census 2021. "
   ]
  },
  {
   "cell_type": "code",
   "execution_count": 36,
   "metadata": {},
   "outputs": [
    {
     "data": {
      "text/html": [
       "<div>\n",
       "<style scoped>\n",
       "    .dataframe tbody tr th:only-of-type {\n",
       "        vertical-align: middle;\n",
       "    }\n",
       "\n",
       "    .dataframe tbody tr th {\n",
       "        vertical-align: top;\n",
       "    }\n",
       "\n",
       "    .dataframe thead th {\n",
       "        text-align: right;\n",
       "    }\n",
       "</style>\n",
       "<table border=\"1\" class=\"dataframe\">\n",
       "  <thead>\n",
       "    <tr style=\"text-align: right;\">\n",
       "      <th></th>\n",
       "      <th>GRD_ID</th>\n",
       "      <th>T</th>\n",
       "      <th>M</th>\n",
       "      <th>F</th>\n",
       "      <th>Y_LT15</th>\n",
       "      <th>Y_1564</th>\n",
       "      <th>Y_GE65</th>\n",
       "      <th>EMP</th>\n",
       "      <th>NAT</th>\n",
       "      <th>EU_OTH</th>\n",
       "      <th>OTH</th>\n",
       "      <th>SAME</th>\n",
       "      <th>CHG_IN</th>\n",
       "      <th>CHG_OUT</th>\n",
       "      <th>LAND_SURFACE</th>\n",
       "      <th>POPULATED</th>\n",
       "      <th>CONFIDENTIALSTATUS</th>\n",
       "      <th>geometry</th>\n",
       "      <th>bounds</th>\n",
       "      <th>share_vegetation</th>\n",
       "    </tr>\n",
       "  </thead>\n",
       "  <tbody>\n",
       "    <tr>\n",
       "      <th>0</th>\n",
       "      <td>CRS3035RES1000mN3105000E4041000</td>\n",
       "      <td>196</td>\n",
       "      <td>95</td>\n",
       "      <td>99</td>\n",
       "      <td>26</td>\n",
       "      <td>131</td>\n",
       "      <td>41</td>\n",
       "      <td>NaN</td>\n",
       "      <td>155</td>\n",
       "      <td>27</td>\n",
       "      <td>15</td>\n",
       "      <td>185</td>\n",
       "      <td>11</td>\n",
       "      <td>3</td>\n",
       "      <td>1.0</td>\n",
       "      <td>1</td>\n",
       "      <td>NaN</td>\n",
       "      <td>POLYGON ((4041000 3105000, 4042000 3105000, 40...</td>\n",
       "      <td>(4041000.0, 3105000.0, 4042000.0, 3106000.0)</td>\n",
       "      <td>0.488649</td>\n",
       "    </tr>\n",
       "    <tr>\n",
       "      <th>1</th>\n",
       "      <td>CRS3035RES1000mN3105000E4042000</td>\n",
       "      <td>77</td>\n",
       "      <td>39</td>\n",
       "      <td>37</td>\n",
       "      <td>18</td>\n",
       "      <td>49</td>\n",
       "      <td>15</td>\n",
       "      <td>NaN</td>\n",
       "      <td>54</td>\n",
       "      <td>13</td>\n",
       "      <td>11</td>\n",
       "      <td>69</td>\n",
       "      <td>0</td>\n",
       "      <td>3</td>\n",
       "      <td>1.0</td>\n",
       "      <td>1</td>\n",
       "      <td>NaN</td>\n",
       "      <td>POLYGON ((4042000 3105000, 4043000 3105000, 40...</td>\n",
       "      <td>(4042000.0, 3105000.0, 4043000.0, 3106000.0)</td>\n",
       "      <td>0.523852</td>\n",
       "    </tr>\n",
       "  </tbody>\n",
       "</table>\n",
       "</div>"
      ],
      "text/plain": [
       "                            GRD_ID    T   M   F  Y_LT15  Y_1564  Y_GE65  EMP  \\\n",
       "0  CRS3035RES1000mN3105000E4041000  196  95  99      26     131      41  NaN   \n",
       "1  CRS3035RES1000mN3105000E4042000   77  39  37      18      49      15  NaN   \n",
       "\n",
       "   NAT  EU_OTH  OTH  SAME  CHG_IN  CHG_OUT  LAND_SURFACE  POPULATED  \\\n",
       "0  155      27   15   185      11        3           1.0          1   \n",
       "1   54      13   11    69       0        3           1.0          1   \n",
       "\n",
       "   CONFIDENTIALSTATUS                                           geometry  \\\n",
       "0                 NaN  POLYGON ((4041000 3105000, 4042000 3105000, 40...   \n",
       "1                 NaN  POLYGON ((4042000 3105000, 4043000 3105000, 40...   \n",
       "\n",
       "                                         bounds  share_vegetation  \n",
       "0  (4041000.0, 3105000.0, 4042000.0, 3106000.0)          0.488649  \n",
       "1  (4042000.0, 3105000.0, 4043000.0, 3106000.0)          0.523852  "
      ]
     },
     "execution_count": 36,
     "metadata": {},
     "output_type": "execute_result"
    }
   ],
   "source": [
    "gdf_grid.head(2)"
   ]
  },
  {
   "cell_type": "code",
   "execution_count": 37,
   "metadata": {},
   "outputs": [
    {
     "data": {
      "text/plain": [
       "array([0, 1])"
      ]
     },
     "execution_count": 37,
     "metadata": {},
     "output_type": "execute_result"
    }
   ],
   "source": [
    "# There are records in the dataset that don't have any population count (0) but are still considered as POPULATED = 1\n",
    "gdf_grid[gdf_grid['T'] == 0][\"POPULATED\"].unique()"
   ]
  },
  {
   "cell_type": "code",
   "execution_count": 38,
   "metadata": {},
   "outputs": [],
   "source": [
    "# We need to account for his in the share calculation, since we cannot divide by 0\n",
    "gdf_grid['share_veg_cap'] = (gdf_grid['share_vegetation']) / gdf_grid['T'].replace(0, np.nan)"
   ]
  },
  {
   "cell_type": "code",
   "execution_count": 39,
   "metadata": {},
   "outputs": [],
   "source": [
    "# like in the vegetation share calculation before, we set the non-populated areas to the value -2\n",
    "gdf_grid.loc[gdf_grid['POPULATED'] == 0, 'share_veg_cap'] = -2"
   ]
  },
  {
   "cell_type": "code",
   "execution_count": 40,
   "metadata": {},
   "outputs": [
    {
     "data": {
      "text/plain": [
       "<Axes: ylabel='Frequency'>"
      ]
     },
     "execution_count": 40,
     "metadata": {},
     "output_type": "execute_result"
    },
    {
     "data": {
      "image/png": "[encoded data removed]",
      "text/plain": [
       "<Figure size 640x480 with 1 Axes>"
      ]
     },
     "metadata": {},
     "output_type": "display_data"
    }
   ],
   "source": [
    "gdf_grid['share_veg_cap'].plot.hist(bins=30, edgecolor=\"black\")"
   ]
  },
  {
   "cell_type": "code",
   "execution_count": 41,
   "metadata": {},
   "outputs": [
    {
     "data": {
      "text/plain": [
       "64"
      ]
     },
     "execution_count": 41,
     "metadata": {},
     "output_type": "execute_result"
    }
   ],
   "source": [
    "# POPULATESD grid cells that still currently don't count 1 person are kept as NA\n",
    "gdf_grid['share_veg_cap'].isna().sum()"
   ]
  },
  {
   "cell_type": "markdown",
   "metadata": {},
   "source": [
    "## Export the datasets for visualization in GridViz \n",
    "\n",
    "We decided to use the GRD_ID of the census grid 2021 as a join field in our data exchange and export the values as non-geospatial tables in a compressed parquet format"
   ]
  },
  {
   "cell_type": "code",
   "execution_count": 44,
   "metadata": {},
   "outputs": [],
   "source": [
    "# Select only the two columns you need to export\n",
    "gdf_subset = gdf_grid[['GRD_ID', 'share_vegetation']]\n",
    "\n",
    "# Export to Parquet\n",
    "#gdf_subset.to_parquet(\"nuts2duesseldorf_vegshare.parquet\", engine=\"pyarrow\", compression=\"snappy\")"
   ]
  },
  {
   "cell_type": "code",
   "execution_count": 45,
   "metadata": {},
   "outputs": [
    {
     "data": {
      "text/html": [
       "<div>\n",
       "<style scoped>\n",
       "    .dataframe tbody tr th:only-of-type {\n",
       "        vertical-align: middle;\n",
       "    }\n",
       "\n",
       "    .dataframe tbody tr th {\n",
       "        vertical-align: top;\n",
       "    }\n",
       "\n",
       "    .dataframe thead th {\n",
       "        text-align: right;\n",
       "    }\n",
       "</style>\n",
       "<table border=\"1\" class=\"dataframe\">\n",
       "  <thead>\n",
       "    <tr style=\"text-align: right;\">\n",
       "      <th></th>\n",
       "      <th>GRD_ID</th>\n",
       "      <th>share_vegetation</th>\n",
       "    </tr>\n",
       "  </thead>\n",
       "  <tbody>\n",
       "    <tr>\n",
       "      <th>0</th>\n",
       "      <td>CRS3035RES1000mN3105000E4041000</td>\n",
       "      <td>0.488649</td>\n",
       "    </tr>\n",
       "    <tr>\n",
       "      <th>1</th>\n",
       "      <td>CRS3035RES1000mN3105000E4042000</td>\n",
       "      <td>0.523852</td>\n",
       "    </tr>\n",
       "  </tbody>\n",
       "</table>\n",
       "</div>"
      ],
      "text/plain": [
       "                            GRD_ID  share_vegetation\n",
       "0  CRS3035RES1000mN3105000E4041000          0.488649\n",
       "1  CRS3035RES1000mN3105000E4042000          0.523852"
      ]
     },
     "execution_count": 45,
     "metadata": {},
     "output_type": "execute_result"
    }
   ],
   "source": [
    "gdf_subset.head(2)"
   ]
  },
  {
   "cell_type": "code",
   "execution_count": 47,
   "metadata": {},
   "outputs": [],
   "source": [
    "# Select only the two columns you need to export\n",
    "gdf_subset = gdf_grid[['GRD_ID', 'share_veg_cap']]\n",
    "\n",
    "# Export to Parquet\n",
    "#gdf_subset.to_parquet(\"nuts2duesseldorf_veg_capita.parquet\", engine=\"pyarrow\", compression=\"snappy\")"
   ]
  },
  {
   "cell_type": "code",
   "execution_count": 48,
   "metadata": {},
   "outputs": [
    {
     "data": {
      "text/html": [
       "<div>\n",
       "<style scoped>\n",
       "    .dataframe tbody tr th:only-of-type {\n",
       "        vertical-align: middle;\n",
       "    }\n",
       "\n",
       "    .dataframe tbody tr th {\n",
       "        vertical-align: top;\n",
       "    }\n",
       "\n",
       "    .dataframe thead th {\n",
       "        text-align: right;\n",
       "    }\n",
       "</style>\n",
       "<table border=\"1\" class=\"dataframe\">\n",
       "  <thead>\n",
       "    <tr style=\"text-align: right;\">\n",
       "      <th></th>\n",
       "      <th>GRD_ID</th>\n",
       "      <th>share_veg_cap</th>\n",
       "    </tr>\n",
       "  </thead>\n",
       "  <tbody>\n",
       "    <tr>\n",
       "      <th>0</th>\n",
       "      <td>CRS3035RES1000mN3105000E4041000</td>\n",
       "      <td>0.002493</td>\n",
       "    </tr>\n",
       "    <tr>\n",
       "      <th>1</th>\n",
       "      <td>CRS3035RES1000mN3105000E4042000</td>\n",
       "      <td>0.006803</td>\n",
       "    </tr>\n",
       "  </tbody>\n",
       "</table>\n",
       "</div>"
      ],
      "text/plain": [
       "                            GRD_ID  share_veg_cap\n",
       "0  CRS3035RES1000mN3105000E4041000       0.002493\n",
       "1  CRS3035RES1000mN3105000E4042000       0.006803"
      ]
     },
     "execution_count": 48,
     "metadata": {},
     "output_type": "execute_result"
    }
   ],
   "source": [
    "gdf_subset.head(2)"
   ]
  },
  {
   "cell_type": "markdown",
   "metadata": {},
   "source": [
    "We can now use the resulting values (vegetation share per 1km² and vegetation share per capita in 1km²) to be visualized with the GridViz library!"
   ]
  }
 ],
 "metadata": {
  "kernelspec": {
   "display_name": "Sentinel Hub",
   "language": "python",
   "name": "sentinelhub"
  },
  "language_info": {
   "codemirror_mode": {
    "name": "ipython",
    "version": 3
   },
   "file_extension": ".py",
   "mimetype": "text/x-python",
   "name": "python",
   "nbconvert_exporter": "python",
   "pygments_lexer": "ipython3",
   "version": "3.10.14"
  }
 },
 "nbformat": 4,
 "nbformat_minor": 4
}
