{
 "cells": [
  {
   "cell_type": "code",
   "execution_count": null,
   "id": "2c05d8ed-16d9-44fe-895c-93ebf8734226",
   "metadata": {},
   "outputs": [],
   "source": [
    "import pandas as pd\n",
    "import geopandas as gpd\n",
    "import xarray as xr\n",
    "import datetime\n",
    "import numpy as np\n",
    "import os"
   ]
  },
  {
   "cell_type": "code",
   "execution_count": null,
   "id": "d61d09ae-3874-4b9b-a7bf-0973c53aef03",
   "metadata": {},
   "outputs": [],
   "source": [
    "def complete_and_fill_dates(df, start_date=\"2024-01-01\", end_date=\"2024-12-31\"):\n",
    "    \"\"\"\n",
    "    Ensures all days within the full year range are present as columns and fills missing values\n",
    "    using the nearest available value, including first and last days.\n",
    "\n",
    "    Parameters:\n",
    "        df (pd.DataFrame): A DataFrame where the index is the city and columns are dates.\n",
    "        start_date (str): The starting date for the full range.\n",
    "        end_date (str): The ending date for the full range.\n",
    "\n",
    "    Returns:\n",
    "        pd.DataFrame: The updated DataFrame with all dates included and NaNs filled.\n",
    "    \"\"\"\n",
    "    # Convert column names to datetime\n",
    "    df.columns = pd.to_datetime(df.columns)\n",
    "\n",
    "    # Create a complete date range for the entire year\n",
    "    full_date_range = pd.date_range(start=start_date, end=end_date, freq=\"D\")\n",
    "\n",
    "    # Reindex the DataFrame to include all days\n",
    "    df = df.reindex(columns=full_date_range)\n",
    "\n",
    "    # Fill missing values with nearest values based on time\n",
    "    df = df.interpolate(method=\"nearest\", axis=1)\n",
    "\n",
    "    # Fill remaining NaNs at the start with the first available value and at the end with the last\n",
    "    df = df.bfill(axis=1).ffill(axis=1)\n",
    "\n",
    "    return df"
   ]
  },
  {
   "cell_type": "code",
   "execution_count": null,
   "id": "3849eb56-e566-48c3-92b8-ea98c039f6e8",
   "metadata": {},
   "outputs": [],
   "source": [
    "def preprocess_NDVI_italy():\n",
    "    \"\"\"\n",
    "    Loads multiple NDVI NetCDF files, extracts data, fills missing dates, and combines into a single DataFrame.\n",
    "\n",
    "    Returns:\n",
    "        pd.DataFrame: A DataFrame where rows are cities and columns are daily NDVI values.\n",
    "    \"\"\"\n",
    "    list_data = os.listdir(\"data/NDVI_nc/\")\n",
    "    list_data = [x for x in list_data if x.endswith(\".nc\")]  # Fixed list comprehension\n",
    "\n",
    "    data_final = pd.DataFrame()  # Initialize empty DataFrame\n",
    "\n",
    "    for name in list_data:\n",
    "        name_com = name.replace('_ndvi_ts.nc', '')  # Extract city name\n",
    "        data_set = xr.open_dataset(os.path.join(\"data/NDVI_nc/Italia\", name))  # Load dataset\n",
    "        \n",
    "        date = data_set.t.values  # Extract time values\n",
    "        dates = list(pd.to_datetime(date).strftime('%Y-%m-%d'))  # Convert to YYYY-MM-DD\n",
    "\n",
    "        ndvi_values = data_set.squeeze().to_array().values.flatten()  # Extract NDVI values\n",
    "\n",
    "        # Create DataFrame for the city\n",
    "        data = pd.DataFrame({name_com: ndvi_values}, index=dates).T\n",
    "\n",
    "        # Ensure all days are present and fill missing values\n",
    "        data = complete_and_fill_dates(data)\n",
    "\n",
    "        # Combine into final dataset\n",
    "        data_final = pd.concat([data_final, data], axis=0)\n",
    "    def exp_norm (x):\n",
    "        return np.exp(x) / np.exp(1)\n",
    "        \n",
    "    data_scaled = data_final.apply(exp_norm)\n",
    "    return data_scaled        "
   ]
  },
  {
   "cell_type": "code",
   "execution_count": null,
   "id": "c5b916e9-266c-49ed-9acd-d97a58fcb0c1",
   "metadata": {},
   "outputs": [],
   "source": [
    "data_italy = preprocess_NDVI_italy()\n",
    "data_italy = data_italy.rename(index={\"Vallée d’Aoste\":\"Valle d’Aosta/Vallée d’Aoste\"})\n",
    "data_italy.to_csv(\"data/NDVI_italia.csv\")"
   ]
  },
  {
   "cell_type": "code",
   "execution_count": null,
   "id": "5fa3c0ab-0eb7-4054-934c-ec8743904aa3",
   "metadata": {},
   "outputs": [],
   "source": [
    "def preprocess_NDVI_BELGIO(minimo = 0.10, massimo = 1):\n",
    "    \"\"\"\n",
    "    Loads multiple NDVI NetCDF files, extracts data, fills missing dates, and combines into a single DataFrame.\n",
    "\n",
    "    Returns:\n",
    "        pd.DataFrame: A DataFrame where rows are cities and columns are daily NDVI values.\n",
    "    \"\"\"\n",
    "    list_data = os.listdir(\"data/NDVI/Belgio/\")\n",
    "    list_data = [x for x in list_data if x.endswith(\".nc\")]  # Fixed list comprehension\n",
    "\n",
    "    data_final = pd.DataFrame()  # Initialize empty DataFrame\n",
    "\n",
    "    for name in list_data:\n",
    "        name_com = name.replace('_ndvi_ts.nc', '')  # Extract city name\n",
    "        data_set = xr.open_dataset(os.path.join(\"data/NDVI/Belgio\", name))  # Load dataset\n",
    "        \n",
    "        date = data_set.t.values  # Extract time values\n",
    "        dates = list(pd.to_datetime(date).strftime('%Y-%m-%d'))  # Convert to YYYY-MM-DD\n",
    "\n",
    "        ndvi_values = data_set.squeeze().to_array().values.flatten()  # Extract NDVI values\n",
    "\n",
    "        # Create DataFrame for the city\n",
    "        data = pd.DataFrame({name_com: ndvi_values}, index=dates).T\n",
    "\n",
    "        # Ensure all days are present and fill missing values\n",
    "        data = complete_and_fill_dates(data)\n",
    "\n",
    "        # Combine into final dataset\n",
    "        data_final = pd.concat([data_final, data], axis=0)\n",
    "    def exp_norm (x):\n",
    "        return np.exp(x) / np.exp(1)\n",
    "        \n",
    "    data_scaled = data_final.apply(exp_norm)\n",
    "    return data_scaled"
   ]
  },
  {
   "cell_type": "code",
   "execution_count": null,
   "id": "b5cd40a9-99ef-49e1-8f24-7198beba5838",
   "metadata": {},
   "outputs": [],
   "source": [
    "data_belgio = preprocess_NDVI_BELGIO()\n",
    "data_belgio.rename(index = {\"Arr. Brussel-Hoofdstad\" : \"Arr. de Bruxelles-Capitale/Arr. Brussel-Hoofdstad\"})\n",
    "data_belgio.to_csv(\"NDVI_belgio.csv\")"
   ]
  },
  {
   "cell_type": "code",
   "execution_count": null,
   "id": "c9dd9ba1-3ec8-4608-aab1-ba57b7ea45ad",
   "metadata": {},
   "outputs": [],
   "source": []
  }
 ],
 "metadata": {
  "kernelspec": {
   "display_name": "Python 3 (ipykernel)",
   "language": "python",
   "name": "python3"
  },
  "language_info": {
   "codemirror_mode": {
    "name": "ipython",
    "version": 3
   },
   "file_extension": ".py",
   "mimetype": "text/x-python",
   "name": "python",
   "nbconvert_exporter": "python",
   "pygments_lexer": "ipython3",
   "version": "3.10.12"
  }
 },
 "nbformat": 4,
 "nbformat_minor": 5
}
