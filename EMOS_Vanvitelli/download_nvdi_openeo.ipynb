{
 "cells": [
  {
   "cell_type": "code",
   "execution_count": null,
   "id": "52dc7e1a-3c0d-4f4f-8de7-29c55288e676",
   "metadata": {},
   "outputs": [],
   "source": [
    "import openeo\n",
    "import json\n",
    "import geopandas as gpd\n",
    "from shapely.geometry import mapping  # Import mapping to convert geometry to GeoJSON"
   ]
  },
  {
   "cell_type": "code",
   "execution_count": null,
   "id": "929b7a08-3ff0-455d-b766-ba56a187cf42",
   "metadata": {},
   "outputs": [],
   "source": [
    "connection = openeo.connect(\"openeo.dataspace.copernicus.eu\").authenticate_oidc()"
   ]
  },
  {
   "cell_type": "code",
   "execution_count": null,
   "id": "f83dec47-73f3-45ba-92c5-66c0192d3010",
   "metadata": {},
   "outputs": [],
   "source": [
    "geo_df = gpd.read_file(\"NUTS_RG_20M_2024_4326.geojson\")\n",
    "geo_df_italy = geo_df[geo_df[\"CNTR_CODE\"] == \"IT\"][:107]  #only nuts3 \n",
    "geo_df_belgium = geo_df[geo_df[\"CNTR_CODE\"] == \"BE\"][:44] #only nuts3"
   ]
  },
  {
   "cell_type": "code",
   "execution_count": null,
   "id": "9fc483c1-ae67-4550-bc2c-9222eaeeb5ce",
   "metadata": {},
   "outputs": [],
   "source": [
    "nuts_3_italy =list(geo_df_italy[\"NUTS_NAME\"])\n",
    "nuts_3_belgium = list(geo_df_belgium[\"NUTS_NAME\"])"
   ]
  },
  {
   "cell_type": "code",
   "execution_count": null,
   "id": "18da2c03-109f-4299-960e-c6934e36609f",
   "metadata": {},
   "outputs": [],
   "source": [
    "def extract_aoi(row: gpd.GeoSeries):\n",
    "    \"\"\"Extracts geometry from a GeoSeries row and converts it into a dictionary.\"\"\"\n",
    "    return mapping(row.geometry)  # Convert geometry to GeoJSON format\n",
    "\n",
    "def get_data(geo_df: gpd.GeoDataFrame, connection, nuts_3_name, folder):\n",
    "    \"\"\"Loads Sentinel-2 data, computes NDVI, aggregates it over the area, and saves the result.\"\"\"\n",
    "    i = 0\n",
    "    for _, row in geo_df.iterrows():\n",
    "        aoi = extract_aoi(row)  # Corrected extract_aoi function\n",
    "        \n",
    "        ndvi_cube = connection.load_collection(\n",
    "            \"SENTINEL2_L2A\",\n",
    "            temporal_extent=[\"2024-01-01\", \"2024-12-31\"],\n",
    "            bands=[\"B04\", \"B08\"],\n",
    "            spatial_extent=aoi\n",
    "        )\n",
    "        \n",
    "        red = ndvi_cube.band(\"B04\")\n",
    "        nir = ndvi_cube.band(\"B08\")\n",
    "        ndvi = (nir - red) / (nir + red)\n",
    "        ndvi_aggregated = ndvi.aggregate_spatial(geometries=aoi, reducer=\"mean\")\n",
    "        #ndvi_aggregated = ndvi_aggregated.save_result(format=\"NetCDF\")\n",
    "        # Create and start job\n",
    "        print(f\"{nuts_3_name[i]} started\")\n",
    "        job = ndvi_aggregated.execute_batch(title = f\"{nuts_3_name[i]}_ndvi_ts\", outputfile=f\"data/NDVI_nc/{folder}/{nuts_3_name[i]}_ndvi_ts.nc\")\n",
    "        print(f\"{nuts_3_name[i]} finished\")\n",
    "        i +=1"
   ]
  },
  {
   "cell_type": "code",
   "execution_count": null,
   "id": "e524e483-f539-4ea7-9a5a-ef37dd90dc17",
   "metadata": {},
   "outputs": [],
   "source": [
    "get_data(geo_df_italy, connection, nuts_3_italy, folder = \"Italia\")"
   ]
  },
  {
   "cell_type": "code",
   "execution_count": null,
   "id": "9688dfc8-4e3a-4274-bc08-00b0688e665f",
   "metadata": {},
   "outputs": [],
   "source": [
    "get_data(geo_df_belgium, connection, nuts_3_belgium, folder = \"Belgio\")"
   ]
  }
 ],
 "metadata": {
  "kernelspec": {
   "display_name": "Python 3 (ipykernel)",
   "language": "python",
   "name": "python3"
  },
  "language_info": {
   "codemirror_mode": {
    "name": "ipython",
    "version": 3
   },
   "file_extension": ".py",
   "mimetype": "text/x-python",
   "name": "python",
   "nbconvert_exporter": "python",
   "pygments_lexer": "ipython3",
   "version": "3.10.12"
  }
 },
 "nbformat": 4,
 "nbformat_minor": 5
}
