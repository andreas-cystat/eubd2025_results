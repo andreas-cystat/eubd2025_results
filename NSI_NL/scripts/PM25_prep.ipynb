{
 "cells": [
  {
   "cell_type": "code",
   "execution_count": 10,
   "id": "78ee8e96-7cc3-4369-af7c-d7801c88de3c",
   "metadata": {},
   "outputs": [
    {
     "name": "stdout",
     "output_type": "stream",
     "text": [
      "Index(['system:index', 'CNTR_CODE', 'COAST_TYPE', 'LEVL_CODE', 'MOUNT_TYPE',\n",
      "       'NAME_LATN', 'NUTS_ID', 'NUTS_NAME', 'Shape_Area', 'Shape_Leng',\n",
      "       'URBN_TYPE', 'day', 'mean', 'month', 'start_date', 'year', '.geo'],\n",
      "      dtype='object')\n",
      "Data cleaned and saved as 'combined_cleaned_data.csv'\n"
     ]
    }
   ],
   "source": [
    "import pandas as pd\n",
    "import glob\n",
    "\n",
    "# Step 1: Combine all CSV files\n",
    "files = glob.glob(\"pm25/*.csv\")  # Adjust the path to your files\n",
    "all_data = []\n",
    "\n",
    "for file in files:\n",
    "    data = pd.read_csv(file)\n",
    "    all_data.append(data)\n",
    "\n",
    "combined_data = pd.concat(all_data, ignore_index=True)\n",
    "\n",
    "# Step 2: Clean Data\n",
    "\n",
    "# Remove duplicates (if any)\n",
    "combined_data = combined_data.drop_duplicates()\n",
    "\n",
    "# Handle missing values: You can either drop them or fill them with a value\n",
    "combined_data = combined_data.dropna(subset=['mean'])\n",
    "\n",
    "# Step 3: Convert 'mean' from kg/m³ to µg/m³\n",
    "# Conversion: 1 kg/m³ = 1e9 µg/m³\n",
    "combined_data['mean'] = combined_data['mean'] * 1e9\n",
    "\n",
    "# Step 4: Format 'mean' values in a more readable decimal format\n",
    "combined_data['mean'] = combined_data['mean'].apply(lambda x: round(x, 5))  # Round to 5 decimal places\n",
    "\n",
    "# Step 5: Check the columns available in the DataFrame\n",
    "print(combined_data.columns)\n",
    "\n",
    "# Step 6: Rename '.geo' column to 'geometry' for clarity\n",
    "combined_data['geometry'] = combined_data['.geo']\n",
    "\n",
    "# Step 7: Select the columns you want to keep\n",
    "columns_to_keep = ['LEVL_CODE', 'NUTS_NAME', 'NUTS_ID', 'mean', 'Shape_Area', 'Shape_Leng', 'month', 'year', 'geometry']\n",
    "\n",
    "# Filter the data to keep only the selected columns\n",
    "final_data = combined_data[columns_to_keep]\n",
    "\n",
    "# Step 8: Export cleaned data to a new CSV file\n",
    "final_data.to_csv('pm25.csv', index=False)\n",
    "\n",
    "print(\"Data cleaned and saved as 'pm25.csv'\")\n"
   ]
  },
  {
   "cell_type": "code",
   "execution_count": null,
   "id": "7aee77c2-62d7-4ce1-8c8e-912985f1de55",
   "metadata": {},
   "outputs": [],
   "source": []
  },
  {
   "cell_type": "code",
   "execution_count": null,
   "id": "443a5f87-1bee-4751-82a1-26015a93f057",
   "metadata": {},
   "outputs": [],
   "source": []
  },
  {
   "cell_type": "code",
   "execution_count": null,
   "id": "b9aec389-0428-4551-bd37-0101cfcc126b",
   "metadata": {},
   "outputs": [],
   "source": []
  },
  {
   "cell_type": "code",
   "execution_count": null,
   "id": "56aa7189-93bc-4e86-99a5-e4ade42a4445",
   "metadata": {},
   "outputs": [],
   "source": []
  }
 ],
 "metadata": {
  "kernelspec": {
   "display_name": "Sentinel Hub",
   "language": "python",
   "name": "sentinelhub"
  },
  "language_info": {
   "codemirror_mode": {
    "name": "ipython",
    "version": 3
   },
   "file_extension": ".py",
   "mimetype": "text/x-python",
   "name": "python",
   "nbconvert_exporter": "python",
   "pygments_lexer": "ipython3",
   "version": "3.10.14"
  }
 },
 "nbformat": 4,
 "nbformat_minor": 5
}
